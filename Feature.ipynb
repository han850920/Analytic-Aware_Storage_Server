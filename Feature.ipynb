{
 "cells": [
  {
   "cell_type": "code",
   "execution_count": 3,
   "metadata": {},
   "outputs": [],
   "source": [
    "from PIL import Image\n",
    "import numpy as np\n",
    "import time \n",
    "import math\n",
    "from matplotlib import pyplot as plt\n",
    "import sys\n",
    "import cv2\n",
    "import imutils\n",
    "import tensorflow as tf\n",
    "\n",
    "\n",
    "from tensorflow.image import ResizeMethod \n",
    "from tensorflow.keras import datasets, layers, models\n",
    "import matplotlib.pyplot as plt\n",
    "\n",
    "# Standard PySceneDetect imports:\n",
    "from scenedetect import VideoManager\n",
    "from scenedetect import SceneManager\n",
    "\n",
    "# For content-aware scene detection:|\n",
    "from scenedetect.detectors import ContentDetector\n"
   ]
  },
  {
   "cell_type": "markdown",
   "metadata": {},
   "source": [
    "## Entropy "
   ]
  },
  {
   "cell_type": "code",
   "execution_count": 38,
   "metadata": {},
   "outputs": [],
   "source": [
    "def color_entropy(signal):\n",
    "    '''\n",
    "    function returns entropy of a signal\n",
    "    signal must be a 1-D numpy array\n",
    "    '''\n",
    "    bins = 5\n",
    "    try:\n",
    "        hist = np.histogram(signal, bins=[i for i in range(0,256,bins)])\n",
    "    except Exception as e:\n",
    "        print(e)\n",
    "        print(signal)\n",
    "    lensig = len(hist)-1\n",
    "\n",
    "    propab=[i/np.sum(hist[0]) for i in hist[0]]\n",
    "\n",
    "    ent=np.sum([p*np.log2(1.0/p) for p in propab])\n",
    "    return ent"
   ]
  },
  {
   "cell_type": "markdown",
   "metadata": {},
   "source": [
    "### Background subtraction in OpenCV\n"
   ]
  },
  {
   "cell_type": "code",
   "execution_count": 6,
   "metadata": {},
   "outputs": [
    {
     "name": "stdout",
     "output_type": "stream",
     "text": [
      "100\n",
      "200\n",
      "300\n",
      "400\n",
      "500\n",
      "600\n",
      "700\n",
      "800\n",
      "900\n",
      "1000\n",
      "1100\n",
      "1200\n",
      "1300\n"
     ]
    }
   ],
   "source": [
    "video_list = [\n",
    "        './storage_server_volume/raw_videos/raw_11_9/ipcam1/LiteOn_P1_2019-11-09_09:31:53.mp4',\n",
    "        './storage_server_volume/raw_videos/raw_11_9/ipcam1/LiteOn_P1_2019-11-12_15:00:36.mp4',\n",
    "        './storage_server_volume/raw_videos/raw_11_9/ipcam1/Pole1_2020-08-10_23-59-43.mp4'\n",
    "    ]\n",
    "\n",
    "input_path = './storage_server_volume/raw_videos/raw_11_9/ipcam1/LiteOn_P1_2019-11-12_15:00:36.mp4'\n",
    "file_output = './storage_server_volume/raw_videos/raw_11_9/ipcam1/result_LiteOn_P1_2019-11-12_15:00:36.avi'\n",
    "cap = cv2.VideoCapture(input_path)\n",
    "\n",
    "width = int(cap.get(cv2.CAP_PROP_FRAME_WIDTH))   # float\n",
    "height = int(cap.get(cv2.CAP_PROP_FRAME_HEIGHT)) # float\n",
    "\n",
    "displayResize = 600\n",
    "\n",
    "minArea = 6000\n",
    "\n",
    "\n",
    "\n",
    "fgbg_knn = cv2.createBackgroundSubtractorKNN(detectShadows=True)\n",
    "\n",
    "kernel = cv2.getStructuringElement(cv2.MORPH_ELLIPSE,(3,3))\n",
    "\n",
    "fourcc = cv2.VideoWriter_fourcc(*'MJPG')\n",
    "out = cv2.VideoWriter(file_output,fourcc, 30.0, (int(width),int(height)))\n",
    "\n",
    "\n",
    "def preprocess(img):\n",
    "    img = cv2.cvtColor(img, cv2.COLOR_BGR2GRAY)\n",
    "\n",
    "    return img\n",
    "\n",
    "def posprocess(img):\n",
    "    (T, img) = cv2.threshold(img, 90, 255, cv2.THRESH_BINARY)\n",
    "    #img = cv2.adaptiveThreshold(img,255,cv2.ADAPTIVE_THRESH_MEAN_C,\\\n",
    "    #    cv2.THRESH_BINARY,11,2)\n",
    "    img = cv2.dilate(img, None, iterations=42)\n",
    "    img = cv2.erode(img, None, iterations=42)\n",
    "    img = cv2.dilate(img, None, iterations=8)\n",
    "\n",
    "    return img\n",
    "\n",
    "def findContours(img):\n",
    "    _, cnts, _ = cv2.findContours(img.copy(), cv2.RETR_EXTERNAL, cv2.CHAIN_APPROX_SIMPLE)\n",
    "\n",
    "    return cnts\n",
    "\n",
    "lastFrame = None\n",
    "count = 0\n",
    "while True:\n",
    "    count += 1\n",
    "    ret, frame = cap.read()\n",
    "    if ret is False:\n",
    "        break\n",
    "    if not (count%100):\n",
    "        print(count)\n",
    "    frame_preprocess = preprocess(frame)\n",
    "\n",
    "    if(lastFrame is None): lastFrame = frame_preprocess\n",
    "    fgmask_diff = cv2.absdiff(frame_preprocess, lastFrame)\n",
    "    lastFrame = frame_preprocess\n",
    "    \n",
    "    fgmask_knn = fgbg_knn.apply(frame_preprocess)\n",
    "    \n",
    "\n",
    "    fgmask_knn_rgb = cv2.bitwise_and(frame, frame, mask=fgmask_knn)\n",
    "    out.write(fgmask_knn_rgb)\n",
    "\n",
    "    k = cv2.waitKey(1) & 0xff\n",
    "    if k == 27:\n",
    "        break\n",
    "\n",
    "\n",
    "cap.release()\n",
    "cv2.destroyAllWindows()"
   ]
  },
  {
   "cell_type": "markdown",
   "metadata": {},
   "source": [
    "## Shot Detection"
   ]
  },
  {
   "cell_type": "code",
   "execution_count": 63,
   "metadata": {},
   "outputs": [],
   "source": [
    "def find_scenes(video_path, threshold=6.0):\n",
    "    # Create our video & scene managers, then add the detector.\n",
    "    video_manager = VideoManager([video_path])\n",
    "    scene_manager = SceneManager()\n",
    "    scene_manager.add_detector(\n",
    "        ContentDetector(threshold=threshold))\n",
    "\n",
    "    # Base timestamp at frame 0 (required to obtain the scene list).\n",
    "    base_timecode = video_manager.get_base_timecode()\n",
    "\n",
    "    # Improve processing speed by downscaling before processing.\n",
    "    video_manager.set_downscale_factor()\n",
    "\n",
    "    # Start the video manager and perform the scene detection.\n",
    "    video_manager.start()\n",
    "    scene_manager.detect_scenes(frame_source=video_manager)\n",
    "\n",
    "    # Each returned scene is a tuple of the (start, end) timecode.\n",
    "    return scene_manager.get_scene_list(base_timecode)"
   ]
  },
  {
   "cell_type": "code",
   "execution_count": 64,
   "metadata": {},
   "outputs": [],
   "source": [
    "scenes = find_scenes('./storage_server_volume/raw_videos/raw_11_9/ipcam1/result_LiteOn_P1_2019-11-09_09:31:53.avi')"
   ]
  },
  {
   "cell_type": "code",
   "execution_count": 73,
   "metadata": {},
   "outputs": [
    {
     "name": "stdout",
     "output_type": "stream",
     "text": [
      "250\n"
     ]
    }
   ],
   "source": [
    "print(scenes[1][0].get_frames())"
   ]
  },
  {
   "cell_type": "markdown",
   "metadata": {},
   "source": [
    "## Color Histogram "
   ]
  },
  {
   "cell_type": "code",
   "execution_count": 43,
   "metadata": {},
   "outputs": [
    {
     "name": "stdout",
     "output_type": "stream",
     "text": [
      "Entropy: 106.45775913696023\n",
      "Entropy: 278.4873660215341\n"
     ]
    }
   ],
   "source": [
    "if __name__=='__main__':\n",
    "    # video entropy color histogram\n",
    "\n",
    "    video_list = [\n",
    "        './storage_server_volume/raw_videos/raw_11_9/ipcam1/result_LiteOn_P1_2019-11-09_09:31:53.avi',\n",
    "        './storage_server_volume/raw_videos/raw_11_9/ipcam1/result_LiteOn_P1_2019-11-12_15:00:36.avi'\n",
    "#         './storage_server_volume/raw_videos/raw_11_9/ipcam1/result_Pole1_2020-08-10_23-59-43.avi'\n",
    "    ]\n",
    "    \n",
    "    for i in video_list:\n",
    "        vs = cv2.VideoCapture(i)\n",
    "        entropy_value = 0\n",
    "        frame_count = 0\n",
    "        ret = True\n",
    "        while True:\n",
    "            frame_count+=1\n",
    "            ret, frame = vs.read()\n",
    "            if ret is False:\n",
    "                break\n",
    "            if frame_count < 5:\n",
    "                if frame_count==0:\n",
    "                    fir = frame\n",
    "                continue            \n",
    "            frame=np.array(frame)\n",
    "            S=frame.shape\n",
    "            region=frame.flatten()\n",
    "            \n",
    "            entropy_value += color_entropy(region)\n",
    "            \n",
    "            \n",
    "        print(\"Entropy:\", entropy_value)\n",
    "      \n"
   ]
  },
  {
   "cell_type": "markdown",
   "metadata": {},
   "source": [
    "## Edge Histogram"
   ]
  },
  {
   "cell_type": "code",
   "execution_count": 98,
   "metadata": {},
   "outputs": [],
   "source": [
    "class EdgeHistogramComputer():\n",
    "    def __init__(self, rows, cols):\n",
    "        sqrt2 = math.sqrt(2)\n",
    "        self.kernels = (np.matrix([[1,1],[-1,-1]]), \\\n",
    "                np.matrix([[1,-1],[1,-1]]),         \\\n",
    "                np.matrix([[sqrt2,0],[0,-sqrt2]]),  \\\n",
    "                np.matrix([[0,sqrt2],[-sqrt2,0]]),  \\\n",
    "                np.matrix([[2,-2],[-2,2]]));\n",
    "        self.bins = [len(self.kernels)]\n",
    "        self.range = [0,len(self.kernels)]\n",
    "        self.rows = rows\n",
    "        self.cols = cols\n",
    "        self.prefix = \"EDH\"\n",
    "\n",
    "    def compute(self, frame):\n",
    "        frame = cv2.cvtColor(frame, cv2.COLOR_BGR2GRAY)\n",
    "        descriptor = []\n",
    "        dominantGradients = np.zeros_like(frame)\n",
    "        maxGradient = cv2.filter2D(frame, cv2.CV_32F, self.kernels[0])\n",
    "        maxGradient = np.absolute(maxGradient)\n",
    "        \n",
    "        for k in range(1,len(self.kernels)):\n",
    "            kernel = self.kernels[k]\n",
    "            gradient = cv2.filter2D(frame, cv2.CV_32F, kernel)\n",
    "            gradient = np.absolute(gradient)\n",
    "            np.maximum(maxGradient, gradient, maxGradient)\n",
    "            indices = (maxGradient == gradient)\n",
    "            dominantGradients[indices] = k\n",
    "\n",
    "        frameH, frameW = frame.shape\n",
    "        mask = np.zeros_like(frame)\n",
    "        for row in range(self.rows):\n",
    "            for col in range(self.cols):\n",
    "                mask[int((frameH/self.rows)*row):int((frameH/self.rows)*(row+1)),int((frameW/self.cols)*col):int((frameW/self.cols)*(col+1))] = 255\n",
    "                # calcHist: (images, channels, mask, histSize, ranges)\n",
    "                hist = cv2.calcHist([dominantGradients], [0], mask, self.bins, self.range)\n",
    "                hist = cv2.normalize(hist, None)\n",
    "                hist = np.round(hist,4)\n",
    "                descriptor.append(hist)\n",
    "        return np.concatenate([x for x in descriptor])"
   ]
  },
  {
   "cell_type": "code",
   "execution_count": 99,
   "metadata": {},
   "outputs": [
    {
     "name": "stdout",
     "output_type": "stream",
     "text": [
      "Entropy: 7.432103721317654 FPS: 4.6063968704251\n",
      "Entropy: 7.425186429663007 FPS: 4.627691981786265\n",
      "Entropy: 7.458519762996341 FPS: 4.253228223812701\n"
     ]
    },
    {
     "data": {
      "image/png": "[encoded data removed]",
      "text/plain": [
       "<Figure size 432x288 with 3 Axes>"
      ]
     },
     "metadata": {
      "needs_background": "light"
     },
     "output_type": "display_data"
    }
   ],
   "source": [
    "if __name__=='__main__':\n",
    "    \n",
    "    # video entropy Edge histogram\n",
    "    video_list = [\n",
    "        './storage_server_volume/raw_videos/raw_11_9/ipcam1/LiteOn_P1_2019-11-09_09:31:53.mp4',\n",
    "        './storage_server_volume/raw_videos/raw_11_9/ipcam1/LiteOn_P1_2019-11-12_15:00:36.mp4',\n",
    "        './storage_server_volume/raw_videos/raw_11_9/ipcam1/Pole1_2020-08-10_23-59-43.mp4'\n",
    "    ]\n",
    "    \n",
    "    for i in range(3):\n",
    "        vs = cv2.VideoCapture(video_list[i])\n",
    "        start_time = time.time()\n",
    "        ret, frame = vs.read()\n",
    "        frame = np.array(frame)\n",
    "        edgeHistogramComputer = EdgeHistogramComputer(6,6)\n",
    "        hist = edgeHistogramComputer.compute(frame)\n",
    "        hist = hist.flatten()\n",
    "        print(\"Entropy:\", entropy(hist), \"FPS:\", 1/(time.time()-start_time))\n",
    "        plt.subplot(1,3,i+1)\n",
    "        plt.imshow(frame)"
   ]
  },
  {
   "cell_type": "markdown",
   "metadata": {},
   "source": [
    "## CNN feature"
   ]
  },
  {
   "cell_type": "code",
   "execution_count": 14,
   "metadata": {},
   "outputs": [
    {
     "name": "stdout",
     "output_type": "stream",
     "text": [
      "(1, 511, 511, 3)\n"
     ]
    }
   ],
   "source": [
    "import numpy as nd\n",
    "input_path = './storage_server_volume/raw_videos/raw_11_9/ipcam1/LiteOn_P1_2019-11-09_09:31:53.mp4'\n",
    "\n",
    "cap = cv2.VideoCapture(input_path)\n",
    "\n",
    "ret, frame = cap.read()\n",
    "# frame = tf.image.rgb_to_grayscale(frame)\n",
    "frame = tf.image.resize(frame, [512,512], method=ResizeMethod.BILINEAR,)\n",
    "frame = tf.expand_dims(frame, axis=0)\n",
    "\n",
    "\n",
    "initializer = tf.keras.initializers.RandomNormal(mean=0., stddev=1.)\n",
    "kernel = initializer(shape=(2, 2, 3, 3))\n",
    "\n",
    "conv_feature = tf.nn.conv2d(frame, kernel, strides=[1, 1, 1, 1], padding='VALID')\n",
    "print(conv_feature.shape)\n"
   ]
  },
  {
   "cell_type": "code",
   "execution_count": 28,
   "metadata": {},
   "outputs": [],
   "source": [
    "initializer = tf.keras.initializers.RandomNormal(mean=0., stddev=1.)\n",
    "kernel = initializer(shape=(2, 2, 3, 3))"
   ]
  },
  {
   "cell_type": "code",
   "execution_count": 30,
   "metadata": {},
   "outputs": [
    {
     "name": "stdout",
     "output_type": "stream",
     "text": [
      "Entropy: 26.60734765251565 FPS: 2.5586070083914274\n",
      "Entropy: 27.030034528086635 FPS: 2.4613578973992127\n",
      "Entropy: 27.17799691183339 FPS: 2.659515957524382\n"
     ]
    }
   ],
   "source": [
    "if __name__=='__main__':\n",
    "    \n",
    "    # video entropy Edge histogram\n",
    "    video_list = [\n",
    "        './storage_server_volume/raw_videos/raw_11_9/ipcam1/LiteOn_P1_2019-11-09_09:31:53.mp4',\n",
    "        './storage_server_volume/raw_videos/raw_11_9/ipcam1/LiteOn_P1_2019-11-12_15:00:36.mp4',\n",
    "        './storage_server_volume/raw_videos/raw_11_9/ipcam1/result_Pole1_2020-08-10_23-59-43.mp4'\n",
    "    ]\n",
    "    \n",
    "    for i in range(3):\n",
    "        vs = cv2.VideoCapture(video_list[i])\n",
    "        start_time = time.time()\n",
    "        ret, frame = vs.read()\n",
    "        frame = tf.image.resize(frame, [512,512], method=ResizeMethod.BILINEAR)\n",
    "        frame = tf.expand_dims(frame, axis=0)\n",
    "        \n",
    "        conv_feature = tf.nn.conv2d(frame, kernel, strides=[1, 1, 1, 1], padding='VALID')\n",
    "        entropy_value=0\n",
    "        for channel in range(3):\n",
    "            signal = tf.keras.backend.flatten(conv_feature[:,:,:,channel]).numpy().round()\n",
    "            entropy_value += entropy(signal)\n",
    "            \n",
    "        print(\"Entropy:\", entropy_value, \"FPS:\", 1/(time.time()-start_time))\n",
    "#         plt.subplot(1,3,i+1)\n",
    "#         plt.imshow(frame)"
   ]
  },
  {
   "cell_type": "markdown",
   "metadata": {},
   "source": [
    "## CRNN feature"
   ]
  },
  {
   "cell_type": "code",
   "execution_count": 34,
   "metadata": {},
   "outputs": [],
   "source": [
    "import tensorflow as tf\n",
    "\n",
    "r\"\"\"Performs the 1-D Convolutional RNN Operation, according to the paper:\n",
    "  Convolutional RNN: an Enhanced Model for Extracting Features from Sequential Data (https://arxiv.org/abs/1602.05875)\n",
    "  Gil Keren and Bjoern Schuller. \n",
    "  Calling the below function is equivalnet to applying one CRNN layer. For a deep model with a few\n",
    "  CRNN layers, the function should be invoked multiple times. \n",
    "  Given a tensor, the function extracts patches of `kernel_size` time-steps, and processed each \n",
    "  with one or more recurrent layers. The hidden state of the recurrent neural network is then \n",
    "  returned as the feature vector representing the path. \n",
    "  Args:\n",
    "    tensor: The tensor to perform the operation on, shape `[batch, time-steps, features]`\n",
    "            or `[batch, time-steps, features, 1]`.\n",
    "    kernel_size: The number of time-steps to include in every patch/window (same as in standard 1-D convolution).\n",
    "    stride: the number of time-steps between two consecutive patches/windows (same as in standard 1-D convolution).\n",
    "    out_channels: The number of extracted features from each patch/window (in standard 1-D convolution \n",
    "                  known as the number of feature maps), which is the hidden dimension of the recurrent \n",
    "                  layers that processes each patch/window.\n",
    "    rnn_n_layers: The number of recurrent layers to process the patches/windows. \n",
    "\t\t  (in the original paper was always =1). \n",
    "    rnn_type: Type of recurrent layers to use: `simple`/`lstm`/`gru`\n",
    "    bidirectional: Whether to use a bidirectional recurrent layers (such as BLSTM, when the rnn_type is 'lstm'). \n",
    "                   If True, The actual number of extracted features from each patch/window is `2 * out_channels`.\n",
    "    w_std: Weights in the recurrent layers will be initialized randomly using a Gaussaian distribution with\n",
    "           zero mean and a standard deviation of `w_std`. Biases are initialized with zero. \n",
    "    padding: `SAME` or `VALID` (same as in standard 1-D convolution).\n",
    "    scope_name: For variable naming, the name prefix for variables names.  \n",
    "  Returns:\n",
    "    A 3-D `Tensor` with shape `[batch, time-steps, features]`, similarly to the output of a standard 1-D convolution. \n",
    "  \"\"\"\n",
    "def crnn(tensor, kernel_size, stride, out_channels, rnn_n_layers, rnn_type, bidirectional, w_std, padding):\n",
    "#     with tf.variable_scope(scope_name, initializer=tf.truncated_normal_initializer(stddev=w_std)):\n",
    "    # Expand to have 4 dimensions if needed\n",
    "    if len(tensor.shape) == 3:\n",
    "        tensor = tf.expand_dims(tensor, 3)\n",
    "\n",
    "    # Extract the patches (returns [batch, time-steps, 1, patch content flattened])\n",
    "    batch_size = tensor.shape[0]\n",
    "    n_in_features = tensor.shape[2]\n",
    "    patches = tf.image.extract_patches(images=tensor, \n",
    "                             sizes=[1, kernel_size, n_in_features, 1], \n",
    "                             strides=[1, stride, n_in_features, 1], \n",
    "                             rates=[1, 1, 1, 1], \n",
    "                             padding=padding)\n",
    "    patches = patches[:, :, 0, :]\n",
    "    \n",
    "\n",
    "    # Reshape to do: \n",
    "    # 1) reshape the flattened patches back to [kernel_size, n_in_features]\n",
    "    # 2) combine the batch and time-steps dimensions (which will be the new 'batch' size, for the RNN)\n",
    "    # now shape will be [batch * time-steps, kernel_size, n_features]\n",
    "    time_steps_after_stride = patches.shape[1]\n",
    "    patches = tf.reshape(patches, [batch_size * time_steps_after_stride, kernel_size, n_in_features])\n",
    "    print(patches.shape)\n",
    "\n",
    "    # Transpose and convert to a list, to fit the tf.contrib.rnn.static_rnn requirements\n",
    "    # Now will be a list of length kernel_size, each element of shape [batch * time-steps, n_features]\n",
    "#     patches = tf.unstack(tf.transpose(patches, [1, 0, 2]))\n",
    "    patches = tf.transpose(patches, [1, 0, 2])\n",
    "\n",
    "\n",
    "    # Create the RNN Cell\n",
    "    if rnn_type == 'simple':\n",
    "        rnn_cell = tf.keras.layers.SimpleRNNCell\n",
    "    elif rnn_type == 'lstm':\n",
    "        rnn_cell = tf.keras.layers.LSTMCell\n",
    "    elif rnn_type == 'gru':\n",
    "        rnn_cell = tf.keras.layers.GRUCell\n",
    "\n",
    "    rnn_cell_func = rnn_cell(out_channels)\n",
    "    \n",
    "    if not bidirectional:\n",
    "        layer = tf.keras.layers.RNN(rnn_cell_func, return_sequences=True, go_backwards=False)\n",
    "        outputs = layer(patches)\n",
    "    else:\n",
    "        forward_layer = tf.keras.layers.RNN(rnn_cell_func, return_sequences=True, return_state=False,go_backwards=False)\n",
    "        backward_layer = tf.keras.layers.RNN(rnn_cell_func, return_sequences=True, return_state=False,go_backwards=True)\n",
    "        layer = tf.keras.layers.Bidirectional(forward_layer, backward_layer=backward_layer)\n",
    "        outputs = layer(patches)\n",
    "    \n",
    "\n",
    "#     # Multilayer RNN? (does not appear in the original paper)\n",
    "#     if rnn_n_layers > 1:\n",
    "#         if not bidirectional:\n",
    "#             rnn_cell = tf.compat.v1.nn.rnn_cell.MultiRNNCell([rnn_cell] * rnn_n_layers)\n",
    "#         else:\n",
    "#             rnn_cell_f = tf.compat.v1.nn.rnn_cell.MultiRNNCell([rnn_cell_f] * rnn_n_layers)\n",
    "#             rnn_cell_b = tf.compat.v1.nn.rnn_cell.MultiRNNCell([rnn_cell_b] * rnn_n_layers)\n",
    "    \n",
    "\n",
    "    \n",
    "        \n",
    "    # Use only the output of the last time-step (shape will be [batch * time-steps, out_channels]).\n",
    "    # In the case of a bidirectional RNN, we want to take the last time-step of the forward RNN, \n",
    "    # and the first time-step of the backward RNN. \n",
    "    if not bidirectional:\n",
    "        outputs = outputs[-1]\n",
    "    else:\n",
    "        half = int(outputs[0].shape.as_list()[-1] / 2)\n",
    "        outputs = tf.concat([outputs[-1][:,:half], \n",
    "                           outputs[0][:,half:]], \n",
    "                          axis=1)\n",
    "\n",
    "    # Expand the batch * time-steps back (shape will be [batch_size, time_steps, out_channels]\n",
    "    if bidirectional:\n",
    "        out_channels = 2 * out_channels\n",
    "    outputs = tf.reshape(outputs, [batch_size, time_steps_after_stride, out_channels])\n",
    "    \n",
    "    return outputs"
   ]
  },
  {
   "cell_type": "code",
   "execution_count": 35,
   "metadata": {},
   "outputs": [
    {
     "name": "stdout",
     "output_type": "stream",
     "text": [
      "(896, 128, 3)\n",
      "tf.Tensor(\n",
      "[[[ 0.0000000e+00  0.0000000e+00  0.0000000e+00]\n",
      "  [ 0.0000000e+00  0.0000000e+00  0.0000000e+00]\n",
      "  [-8.3933617e-33  2.1932015e-11 -0.0000000e+00]\n",
      "  ...\n",
      "  [-0.0000000e+00 -1.0034688e-11 -0.0000000e+00]\n",
      "  [-1.3084787e-37 -1.0023126e-11 -0.0000000e+00]\n",
      "  [-0.0000000e+00 -1.0015019e-11 -0.0000000e+00]]\n",
      "\n",
      " [[ 0.0000000e+00  0.0000000e+00  0.0000000e+00]\n",
      "  [-8.3933617e-33  2.1932015e-11 -0.0000000e+00]\n",
      "  [-4.2906727e-33  3.8421356e-11 -0.0000000e+00]\n",
      "  ...\n",
      "  [-1.3084787e-37  1.7140587e-13 -0.0000000e+00]\n",
      "  [-0.0000000e+00  1.7183574e-13 -0.0000000e+00]\n",
      "  [-0.0000000e+00  1.7189769e-13 -0.0000000e+00]]\n",
      "\n",
      " [[-8.3933617e-33  2.1932015e-11 -0.0000000e+00]\n",
      "  [-4.2906727e-33  3.8421356e-11 -0.0000000e+00]\n",
      "  [-4.2906727e-33  5.4125194e-11 -0.0000000e+00]\n",
      "  ...\n",
      "  [-0.0000000e+00  1.7183574e-13 -0.0000000e+00]\n",
      "  [-0.0000000e+00  1.7189769e-13 -0.0000000e+00]\n",
      "  [-0.0000000e+00  1.7202112e-13 -0.0000000e+00]]\n",
      "\n",
      " [[-4.2906727e-33  1.7534120e-11 -0.0000000e+00]\n",
      "  [-4.2906727e-33  3.4232964e-11 -0.0000000e+00]\n",
      "  [-4.2906727e-33  5.0136326e-11 -0.0000000e+00]\n",
      "  ...\n",
      "  [-0.0000000e+00  1.7189769e-13 -0.0000000e+00]\n",
      "  [-0.0000000e+00  1.7202112e-13 -0.0000000e+00]\n",
      "  [-3.1185630e-01  5.2171246e-14 -5.0000000e-01]]\n",
      "\n",
      " [[-4.2906727e-33  1.7534120e-11 -0.0000000e+00]\n",
      "  [-4.2906727e-33  3.4232964e-11 -0.0000000e+00]\n",
      "  [-1.1976965e-34  3.8060392e-11 -0.0000000e+00]\n",
      "  ...\n",
      "  [-0.0000000e+00 -1.2013268e-11 -0.0000000e+00]\n",
      "  [-3.1185630e-01 -3.6434315e-12 -5.0000000e-01]\n",
      "  [-1.9608219e-01 -3.6713187e-02 -4.2378524e-01]]\n",
      "\n",
      " [[-4.2906727e-33  1.7534120e-11 -0.0000000e+00]\n",
      "  [-1.1976965e-34  2.2087273e-11 -0.0000000e+00]\n",
      "  [-1.1976965e-34  2.6442550e-11 -0.0000000e+00]\n",
      "  ...\n",
      "  [-3.1185630e-01 -6.1547495e-12 -5.0000000e-01]\n",
      "  [-1.9608219e-01 -3.6713187e-02 -4.2378524e-01]\n",
      "  [-1.1668799e-01 -4.8083849e-02 -4.3921903e-01]]], shape=(6, 114688, 3), dtype=float32)\n"
     ]
    }
   ],
   "source": [
    "import numpy as nd\n",
    "input_path = './storage_server_volume/raw_videos/raw_11_9/ipcam1/LiteOn_P1_2019-11-09_09:31:53.mp4'\n",
    "\n",
    "cap = cv2.VideoCapture(input_path)\n",
    "frame_count=0\n",
    "\n",
    "while frame_count<6:\n",
    "    ret, frame = cap.read()\n",
    "    \n",
    "#     frame = tf.image.rgb_to_grayscale(frame)\n",
    "    frame = tf.image.resize(frame, [128,128], method=ResizeMethod.BILINEAR)\n",
    "        \n",
    "    if frame_count ==0:\n",
    "        frame_sequence_tensor = frame\n",
    "    frame_sequence_tensor = np.vstack((frame_sequence_tensor, frame))\n",
    "    frame_count += 1\n",
    "    \n",
    "\n",
    "# frame_sequence_tensor = tf.transpose(frame_sequence_tensor, [1, 0, 2])\n",
    "print(frame_sequence_tensor.shape)\n",
    "output_feature = crnn(frame_sequence_tensor, kernel_size=6, stride=1, out_channels=3, rnn_n_layers=1, rnn_type='lstm', bidirectional=0, w_std=0, padding='SAME')\n"
   ]
  },
  {
   "cell_type": "code",
   "execution_count": 33,
   "metadata": {},
   "outputs": [
    {
     "data": {
      "text/plain": [
       "array([[[ 82.25,  82.25,  82.25],\n",
       "        [ 83.  ,  83.  ,  83.  ],\n",
       "        [ 83.  ,  83.  ,  83.  ],\n",
       "        ...,\n",
       "        [ 62.75,  61.75,  55.75],\n",
       "        [ 48.25,  47.25,  41.25],\n",
       "        [ 36.5 ,  35.5 ,  29.5 ]],\n",
       "\n",
       "       [[ 80.5 ,  80.5 ,  80.5 ],\n",
       "        [170.  , 170.  , 170.  ],\n",
       "        [170.  , 170.  , 170.  ],\n",
       "        ...,\n",
       "        [ 67.  ,  66.  ,  60.  ],\n",
       "        [ 56.25,  55.25,  49.25],\n",
       "        [ 45.25,  44.25,  38.25]],\n",
       "\n",
       "       [[ 81.25,  81.25,  81.25],\n",
       "        [170.5 , 170.5 , 170.5 ],\n",
       "        [170.  , 170.  , 170.  ],\n",
       "        ...,\n",
       "        [ 70.  ,  69.  ,  63.  ],\n",
       "        [ 67.  ,  66.  ,  60.  ],\n",
       "        [ 52.75,  51.75,  45.75]],\n",
       "\n",
       "       ...,\n",
       "\n",
       "       [[125.5 , 106.  , 101.5 ],\n",
       "        [124.  , 105.25,  98.75],\n",
       "        [125.  , 105.  , 101.5 ],\n",
       "        ...,\n",
       "        [ 88.5 , 105.  ,  93.5 ],\n",
       "        [ 93.5 , 112.5 ,  98.5 ],\n",
       "        [ 94.75, 113.75,  99.75]],\n",
       "\n",
       "       [[125.  , 105.5 , 101.  ],\n",
       "        [123.  , 104.5 ,  97.5 ],\n",
       "        [125.  , 104.  , 103.  ],\n",
       "        ...,\n",
       "        [ 92.5 , 107.5 ,  96.5 ],\n",
       "        [ 91.5 , 110.5 ,  96.5 ],\n",
       "        [ 91.5 , 110.5 ,  96.5 ]],\n",
       "\n",
       "       [[125.  , 105.5 , 101.  ],\n",
       "        [123.  , 104.5 ,  97.5 ],\n",
       "        [125.  , 104.  , 103.  ],\n",
       "        ...,\n",
       "        [ 94.25, 108.75,  96.75],\n",
       "        [ 94.5 , 113.5 ,  99.5 ],\n",
       "        [ 93.  , 112.  ,  98.  ]]], dtype=float32)"
      ]
     },
     "execution_count": 33,
     "metadata": {},
     "output_type": "execute_result"
    }
   ],
   "source": []
  },
  {
   "cell_type": "code",
   "execution_count": 24,
   "metadata": {},
   "outputs": [
    {
     "data": {
      "text/plain": [
       "TensorShape([896, 128, 3])"
      ]
     },
     "execution_count": 24,
     "metadata": {},
     "output_type": "execute_result"
    }
   ],
   "source": [
    "output_feature.shape"
   ]
  },
  {
   "cell_type": "code",
   "execution_count": 32,
   "metadata": {},
   "outputs": [
    {
     "name": "stdout",
     "output_type": "stream",
     "text": [
      "(896, 128, 3)\n",
      "0.4920130393204205\n"
     ]
    }
   ],
   "source": [
    "output_feature = tf.transpose(output_feature, [1, 0, 2])\n",
    "print(output_feature.shape)\n",
    "entropy_value=0\n",
    "for channel in range(3):\n",
    "    signal = tf.keras.backend.flatten(output_feature[:,:,channel]).numpy().round()\n",
    "    entropy_value += entropy(signal)\n",
    "print(entropy_value)"
   ]
  },
  {
   "cell_type": "code",
   "execution_count": null,
   "metadata": {},
   "outputs": [],
   "source": [
    "if __name__=='__main__':\n",
    "    \n",
    "    # video entropy Edge histogram\n",
    "    video_list = [\n",
    "        './storage_server_volume/raw_videos/raw_11_9/ipcam1/LiteOn_P1_2019-11-09_09:31:53.mp4',\n",
    "        './storage_server_volume/raw_videos/raw_11_9/ipcam1/LiteOn_P1_2019-11-12_15:00:36.mp4',\n",
    "        './storage_server_volume/raw_videos/raw_11_9/ipcam1/Pole1_2020-08-10_23-59-43.mp4'\n",
    "    ]\n",
    "    for i in range(3):\n",
    "        vs = cv2.VideoCapture(video_list[i])\n",
    "        start_time = time.time()\n",
    "        frame_count=0\n",
    "        while frame_count<6:\n",
    "            ret, frame = cap.read()\n",
    "        #     frame = tf.image.rgb_to_grayscale(frame)\n",
    "            frame = tf.image.resize(frame, [128,128], method=ResizeMethod.BILINEAR)\n",
    "\n",
    "            if frame_count ==0:\n",
    "                frame_sequence_tensor = frame\n",
    "            frame_sequence_tensor = np.vstack((frame_sequence_tensor, frame))\n",
    "            frame_count += 1\n",
    "\n",
    "        print(frame_sequence_tensor.shape)\n",
    "        output_feature = crnn(frame_sequence_tensor, kernel_size=6, stride=1, out_channels=3, rnn_n_layers=1, rnn_type='lstm', bidirectional=0, w_std=1, padding='SAME')\n",
    "        output_feature = tf.transpose(output_feature, [1, 0, 2])\n",
    "\n",
    "        entropy_value=0\n",
    "        for channel in range(3):\n",
    "            signal = tf.keras.backend.flatten(output_feature[:,:,channel]).numpy().round()\n",
    "            entropy_value += entropy(signal)\n",
    "\n",
    "    print(\"Entropy:\", entropy_value, \"FPS:\", 1/(time.time()-start_time))"
   ]
  }
 ],
 "metadata": {
  "kernelspec": {
   "display_name": "Python 3",
   "language": "python",
   "name": "python3"
  },
  "language_info": {
   "codemirror_mode": {
    "name": "ipython",
    "version": 3
   },
   "file_extension": ".py",
   "mimetype": "text/x-python",
   "name": "python",
   "nbconvert_exporter": "python",
   "pygments_lexer": "ipython3",
   "version": "3.6.9"
  }
 },
 "nbformat": 4,
 "nbformat_minor": 4
}
